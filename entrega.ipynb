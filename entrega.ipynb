{
 "cells": [
  {
   "metadata": {},
   "cell_type": "markdown",
   "source": [
    "# VC - Entrega Práctica 3\n",
    "---\n",
    " - Luis Martín Pérez\n",
    "- Andrea Santana López"
   ],
   "id": "7206464f02b4f93a"
  },
  {
   "metadata": {},
   "cell_type": "code",
   "outputs": [],
   "execution_count": null,
   "source": [
    "import cv2\n",
    "import numpy as np\n",
    "import matplotlib.pyplot as plt\n",
    "import csv"
   ],
   "id": "4b4e9949e94dec00"
  },
  {
   "metadata": {},
   "cell_type": "markdown",
   "source": "### TAREA 1 - Detector de dinero en monedas",
   "id": "52c15a8b4003b5f0"
  },
  {
   "metadata": {},
   "cell_type": "code",
   "outputs": [],
   "execution_count": null,
   "source": [
    "img = cv2.imread('Monedas.jpg')\n",
    "\n",
    "img_rgb = cv2.cvtColor(img, cv2.COLOR_BGR2RGB)\n",
    "img_gris = cv2.cvtColor(img, cv2.COLOR_BGR2GRAY)"
   ],
   "id": "66bfc3a6ee14599b"
  },
  {
   "metadata": {},
   "cell_type": "code",
   "outputs": [],
   "execution_count": null,
   "source": [
    "umbral = 200\n",
    "th,img_th = cv2.threshold(img_gris,umbral,255,cv2.THRESH_BINARY_INV)\n",
    "print('Umbral fijo usado ', th)\n",
    "\n",
    "\n",
    "plt.subplot(1, 3, 1)\n",
    "plt.axis(\"off\")\n",
    "plt.imshow(img_gris,cmap='gray')\n",
    "plt.title('Original')\n",
    "\n",
    "plt.subplot(1, 3, 2)\n",
    "plt.axis(\"off\")\n",
    "plt.imshow(img_th,cmap='gray')\n",
    "plt.title('FIJO invertida')\n",
    "\n",
    "contornos_externos, hierarchy = cv2.findContours(img_th,\n",
    "    cv2.RETR_EXTERNAL ,\n",
    "    cv2.CHAIN_APPROX_SIMPLE\n",
    ")\n",
    "\n",
    "coin_count = 0\n",
    "for contorno in contornos_externos:\n",
    "    area = cv2.contourArea(contorno)\n",
    "    if area > 10:\n",
    "        coin_count += 1\n",
    "\n",
    "print(f\"Monedas encontradas: {coin_count}\")"
   ],
   "id": "a79b1e9113bf06ba"
  },
  {
   "metadata": {},
   "cell_type": "markdown",
   "source": "# Detector Microplasticos",
   "id": "33c475d236f0ada7"
  },
  {
   "metadata": {},
   "cell_type": "code",
   "outputs": [],
   "execution_count": null,
   "source": [
    "#Cargan directamente a grises\n",
    "imgorig = cv2.imread('./MicroplasticImages/MPs_test.jpg')\n",
    "#Muestra la imagen en grises\n",
    "cv2.imshow('En escala de grises',imgorig)\n",
    "cv2.waitKey(0)\n",
    "cv2.destroyAllWindows()"
   ],
   "id": "d9d677fa16a7278b"
  }
 ],
 "metadata": {
  "kernelspec": {
   "name": "python3",
   "language": "python",
   "display_name": "Python 3 (ipykernel)"
  }
 },
 "nbformat": 4,
 "nbformat_minor": 5
}
